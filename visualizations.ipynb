{
 "cells": [
  {
   "cell_type": "code",
   "execution_count": 13,
   "metadata": {},
   "outputs": [],
   "source": [
    "from lib.algorithms import Q_learn_freetime, Q_learn, freetime_no_reward"
   ]
  },
  {
   "cell_type": "code",
   "execution_count": 27,
   "metadata": {},
   "outputs": [
    {
     "ename": "ValueError",
     "evalue": "GlobalHydra is already initialized, call GlobalHydra.instance().clear() if you want to re-initialize",
     "output_type": "error",
     "traceback": [
      "\u001b[1;31m---------------------------------------------------------------------------\u001b[0m",
      "\u001b[1;31mValueError\u001b[0m                                Traceback (most recent call last)",
      "\u001b[1;32mc:\\Users\\haash\\Desktop\\RL FREETIME\\freetime-git\\freetime\\visualizations.ipynb Cell 2'\u001b[0m in \u001b[0;36m<cell line: 2>\u001b[1;34m()\u001b[0m\n\u001b[0;32m      <a href='vscode-notebook-cell:/c%3A/Users/haash/Desktop/RL%20FREETIME/freetime-git/freetime/visualizations.ipynb#ch0000001?line=0'>1</a>\u001b[0m \u001b[39mimport\u001b[39;00m \u001b[39mhydra\u001b[39;00m\n\u001b[1;32m----> <a href='vscode-notebook-cell:/c%3A/Users/haash/Desktop/RL%20FREETIME/freetime-git/freetime/visualizations.ipynb#ch0000001?line=1'>2</a>\u001b[0m hydra\u001b[39m.\u001b[39;49minitialize(config_path\u001b[39m=\u001b[39;49m\u001b[39m'\u001b[39;49m\u001b[39mconfigs\u001b[39;49m\u001b[39m'\u001b[39;49m)\n\u001b[0;32m      <a href='vscode-notebook-cell:/c%3A/Users/haash/Desktop/RL%20FREETIME/freetime-git/freetime/visualizations.ipynb#ch0000001?line=2'>3</a>\u001b[0m cfg \u001b[39m=\u001b[39m hydra\u001b[39m.\u001b[39mcompose(config_name\u001b[39m=\u001b[39m\u001b[39m'\u001b[39m\u001b[39mconfig_env3_corners\u001b[39m\u001b[39m'\u001b[39m)\n",
      "File \u001b[1;32m~\\AppData\\Local\\Packages\\PythonSoftwareFoundation.Python.3.9_qbz5n2kfra8p0\\LocalCache\\local-packages\\Python39\\site-packages\\hydra\\initialize.py:84\u001b[0m, in \u001b[0;36minitialize.__init__\u001b[1;34m(self, config_path, job_name, caller_stack_depth)\u001b[0m\n\u001b[0;32m     <a href='file:///c%3A/Users/haash/AppData/Local/Packages/PythonSoftwareFoundation.Python.3.9_qbz5n2kfra8p0/LocalCache/local-packages/Python39/site-packages/hydra/initialize.py?line=78'>79</a>\u001b[0m \u001b[39mif\u001b[39;00m job_name \u001b[39mis\u001b[39;00m \u001b[39mNone\u001b[39;00m:\n\u001b[0;32m     <a href='file:///c%3A/Users/haash/AppData/Local/Packages/PythonSoftwareFoundation.Python.3.9_qbz5n2kfra8p0/LocalCache/local-packages/Python39/site-packages/hydra/initialize.py?line=79'>80</a>\u001b[0m     job_name \u001b[39m=\u001b[39m detect_task_name(\n\u001b[0;32m     <a href='file:///c%3A/Users/haash/AppData/Local/Packages/PythonSoftwareFoundation.Python.3.9_qbz5n2kfra8p0/LocalCache/local-packages/Python39/site-packages/hydra/initialize.py?line=80'>81</a>\u001b[0m         calling_file\u001b[39m=\u001b[39mcalling_file, calling_module\u001b[39m=\u001b[39mcalling_module\n\u001b[0;32m     <a href='file:///c%3A/Users/haash/AppData/Local/Packages/PythonSoftwareFoundation.Python.3.9_qbz5n2kfra8p0/LocalCache/local-packages/Python39/site-packages/hydra/initialize.py?line=81'>82</a>\u001b[0m     )\n\u001b[1;32m---> <a href='file:///c%3A/Users/haash/AppData/Local/Packages/PythonSoftwareFoundation.Python.3.9_qbz5n2kfra8p0/LocalCache/local-packages/Python39/site-packages/hydra/initialize.py?line=83'>84</a>\u001b[0m Hydra\u001b[39m.\u001b[39;49mcreate_main_hydra_file_or_module(\n\u001b[0;32m     <a href='file:///c%3A/Users/haash/AppData/Local/Packages/PythonSoftwareFoundation.Python.3.9_qbz5n2kfra8p0/LocalCache/local-packages/Python39/site-packages/hydra/initialize.py?line=84'>85</a>\u001b[0m     calling_file\u001b[39m=\u001b[39;49mcalling_file,\n\u001b[0;32m     <a href='file:///c%3A/Users/haash/AppData/Local/Packages/PythonSoftwareFoundation.Python.3.9_qbz5n2kfra8p0/LocalCache/local-packages/Python39/site-packages/hydra/initialize.py?line=85'>86</a>\u001b[0m     calling_module\u001b[39m=\u001b[39;49mcalling_module,\n\u001b[0;32m     <a href='file:///c%3A/Users/haash/AppData/Local/Packages/PythonSoftwareFoundation.Python.3.9_qbz5n2kfra8p0/LocalCache/local-packages/Python39/site-packages/hydra/initialize.py?line=86'>87</a>\u001b[0m     config_path\u001b[39m=\u001b[39;49mconfig_path,\n\u001b[0;32m     <a href='file:///c%3A/Users/haash/AppData/Local/Packages/PythonSoftwareFoundation.Python.3.9_qbz5n2kfra8p0/LocalCache/local-packages/Python39/site-packages/hydra/initialize.py?line=87'>88</a>\u001b[0m     job_name\u001b[39m=\u001b[39;49mjob_name,\n\u001b[0;32m     <a href='file:///c%3A/Users/haash/AppData/Local/Packages/PythonSoftwareFoundation.Python.3.9_qbz5n2kfra8p0/LocalCache/local-packages/Python39/site-packages/hydra/initialize.py?line=88'>89</a>\u001b[0m )\n",
      "File \u001b[1;32m~\\AppData\\Local\\Packages\\PythonSoftwareFoundation.Python.3.9_qbz5n2kfra8p0\\LocalCache\\local-packages\\Python39\\site-packages\\hydra\\_internal\\hydra.py:53\u001b[0m, in \u001b[0;36mHydra.create_main_hydra_file_or_module\u001b[1;34m(cls, calling_file, calling_module, config_path, job_name)\u001b[0m\n\u001b[0;32m     <a href='file:///c%3A/Users/haash/AppData/Local/Packages/PythonSoftwareFoundation.Python.3.9_qbz5n2kfra8p0/LocalCache/local-packages/Python39/site-packages/hydra/_internal/hydra.py?line=40'>41</a>\u001b[0m \u001b[39m@classmethod\u001b[39m\n\u001b[0;32m     <a href='file:///c%3A/Users/haash/AppData/Local/Packages/PythonSoftwareFoundation.Python.3.9_qbz5n2kfra8p0/LocalCache/local-packages/Python39/site-packages/hydra/_internal/hydra.py?line=41'>42</a>\u001b[0m \u001b[39mdef\u001b[39;00m \u001b[39mcreate_main_hydra_file_or_module\u001b[39m(\n\u001b[0;32m     <a href='file:///c%3A/Users/haash/AppData/Local/Packages/PythonSoftwareFoundation.Python.3.9_qbz5n2kfra8p0/LocalCache/local-packages/Python39/site-packages/hydra/_internal/hydra.py?line=42'>43</a>\u001b[0m     \u001b[39mcls\u001b[39m: Type[\u001b[39m\"\u001b[39m\u001b[39mHydra\u001b[39m\u001b[39m\"\u001b[39m],\n\u001b[1;32m   (...)\u001b[0m\n\u001b[0;32m     <a href='file:///c%3A/Users/haash/AppData/Local/Packages/PythonSoftwareFoundation.Python.3.9_qbz5n2kfra8p0/LocalCache/local-packages/Python39/site-packages/hydra/_internal/hydra.py?line=46'>47</a>\u001b[0m     job_name: \u001b[39mstr\u001b[39m,\n\u001b[0;32m     <a href='file:///c%3A/Users/haash/AppData/Local/Packages/PythonSoftwareFoundation.Python.3.9_qbz5n2kfra8p0/LocalCache/local-packages/Python39/site-packages/hydra/_internal/hydra.py?line=47'>48</a>\u001b[0m ) \u001b[39m-\u001b[39m\u001b[39m>\u001b[39m \u001b[39m\"\u001b[39m\u001b[39mHydra\u001b[39m\u001b[39m\"\u001b[39m:\n\u001b[0;32m     <a href='file:///c%3A/Users/haash/AppData/Local/Packages/PythonSoftwareFoundation.Python.3.9_qbz5n2kfra8p0/LocalCache/local-packages/Python39/site-packages/hydra/_internal/hydra.py?line=48'>49</a>\u001b[0m     config_search_path \u001b[39m=\u001b[39m create_automatic_config_search_path(\n\u001b[0;32m     <a href='file:///c%3A/Users/haash/AppData/Local/Packages/PythonSoftwareFoundation.Python.3.9_qbz5n2kfra8p0/LocalCache/local-packages/Python39/site-packages/hydra/_internal/hydra.py?line=49'>50</a>\u001b[0m         calling_file, calling_module, config_path\n\u001b[0;32m     <a href='file:///c%3A/Users/haash/AppData/Local/Packages/PythonSoftwareFoundation.Python.3.9_qbz5n2kfra8p0/LocalCache/local-packages/Python39/site-packages/hydra/_internal/hydra.py?line=50'>51</a>\u001b[0m     )\n\u001b[1;32m---> <a href='file:///c%3A/Users/haash/AppData/Local/Packages/PythonSoftwareFoundation.Python.3.9_qbz5n2kfra8p0/LocalCache/local-packages/Python39/site-packages/hydra/_internal/hydra.py?line=52'>53</a>\u001b[0m     \u001b[39mreturn\u001b[39;00m Hydra\u001b[39m.\u001b[39;49mcreate_main_hydra2(job_name, config_search_path)\n",
      "File \u001b[1;32m~\\AppData\\Local\\Packages\\PythonSoftwareFoundation.Python.3.9_qbz5n2kfra8p0\\LocalCache\\local-packages\\Python39\\site-packages\\hydra\\_internal\\hydra.py:68\u001b[0m, in \u001b[0;36mHydra.create_main_hydra2\u001b[1;34m(cls, task_name, config_search_path)\u001b[0m\n\u001b[0;32m     <a href='file:///c%3A/Users/haash/AppData/Local/Packages/PythonSoftwareFoundation.Python.3.9_qbz5n2kfra8p0/LocalCache/local-packages/Python39/site-packages/hydra/_internal/hydra.py?line=64'>65</a>\u001b[0m hydra \u001b[39m=\u001b[39m \u001b[39mcls\u001b[39m(task_name\u001b[39m=\u001b[39mtask_name, config_loader\u001b[39m=\u001b[39mconfig_loader)\n\u001b[0;32m     <a href='file:///c%3A/Users/haash/AppData/Local/Packages/PythonSoftwareFoundation.Python.3.9_qbz5n2kfra8p0/LocalCache/local-packages/Python39/site-packages/hydra/_internal/hydra.py?line=65'>66</a>\u001b[0m \u001b[39mfrom\u001b[39;00m \u001b[39mhydra\u001b[39;00m\u001b[39m.\u001b[39;00m\u001b[39mcore\u001b[39;00m\u001b[39m.\u001b[39;00m\u001b[39mglobal_hydra\u001b[39;00m \u001b[39mimport\u001b[39;00m GlobalHydra\n\u001b[1;32m---> <a href='file:///c%3A/Users/haash/AppData/Local/Packages/PythonSoftwareFoundation.Python.3.9_qbz5n2kfra8p0/LocalCache/local-packages/Python39/site-packages/hydra/_internal/hydra.py?line=67'>68</a>\u001b[0m GlobalHydra\u001b[39m.\u001b[39;49minstance()\u001b[39m.\u001b[39;49minitialize(hydra)\n\u001b[0;32m     <a href='file:///c%3A/Users/haash/AppData/Local/Packages/PythonSoftwareFoundation.Python.3.9_qbz5n2kfra8p0/LocalCache/local-packages/Python39/site-packages/hydra/_internal/hydra.py?line=68'>69</a>\u001b[0m \u001b[39mreturn\u001b[39;00m hydra\n",
      "File \u001b[1;32m~\\AppData\\Local\\Packages\\PythonSoftwareFoundation.Python.3.9_qbz5n2kfra8p0\\LocalCache\\local-packages\\Python39\\site-packages\\hydra\\core\\global_hydra.py:16\u001b[0m, in \u001b[0;36mGlobalHydra.initialize\u001b[1;34m(self, hydra)\u001b[0m\n\u001b[0;32m     <a href='file:///c%3A/Users/haash/AppData/Local/Packages/PythonSoftwareFoundation.Python.3.9_qbz5n2kfra8p0/LocalCache/local-packages/Python39/site-packages/hydra/core/global_hydra.py?line=13'>14</a>\u001b[0m \u001b[39massert\u001b[39;00m \u001b[39misinstance\u001b[39m(hydra, Hydra), \u001b[39mf\u001b[39m\u001b[39m\"\u001b[39m\u001b[39mUnexpected Hydra type : \u001b[39m\u001b[39m{\u001b[39;00m\u001b[39mtype\u001b[39m(hydra)\u001b[39m}\u001b[39;00m\u001b[39m\"\u001b[39m\n\u001b[0;32m     <a href='file:///c%3A/Users/haash/AppData/Local/Packages/PythonSoftwareFoundation.Python.3.9_qbz5n2kfra8p0/LocalCache/local-packages/Python39/site-packages/hydra/core/global_hydra.py?line=14'>15</a>\u001b[0m \u001b[39mif\u001b[39;00m \u001b[39mself\u001b[39m\u001b[39m.\u001b[39mis_initialized():\n\u001b[1;32m---> <a href='file:///c%3A/Users/haash/AppData/Local/Packages/PythonSoftwareFoundation.Python.3.9_qbz5n2kfra8p0/LocalCache/local-packages/Python39/site-packages/hydra/core/global_hydra.py?line=15'>16</a>\u001b[0m     \u001b[39mraise\u001b[39;00m \u001b[39mValueError\u001b[39;00m(\n\u001b[0;32m     <a href='file:///c%3A/Users/haash/AppData/Local/Packages/PythonSoftwareFoundation.Python.3.9_qbz5n2kfra8p0/LocalCache/local-packages/Python39/site-packages/hydra/core/global_hydra.py?line=16'>17</a>\u001b[0m         \u001b[39m\"\u001b[39m\u001b[39mGlobalHydra is already initialized, call GlobalHydra.instance().clear() if you want to re-initialize\u001b[39m\u001b[39m\"\u001b[39m\n\u001b[0;32m     <a href='file:///c%3A/Users/haash/AppData/Local/Packages/PythonSoftwareFoundation.Python.3.9_qbz5n2kfra8p0/LocalCache/local-packages/Python39/site-packages/hydra/core/global_hydra.py?line=17'>18</a>\u001b[0m     )\n\u001b[0;32m     <a href='file:///c%3A/Users/haash/AppData/Local/Packages/PythonSoftwareFoundation.Python.3.9_qbz5n2kfra8p0/LocalCache/local-packages/Python39/site-packages/hydra/core/global_hydra.py?line=18'>19</a>\u001b[0m \u001b[39mself\u001b[39m\u001b[39m.\u001b[39mhydra \u001b[39m=\u001b[39m hydra\n",
      "\u001b[1;31mValueError\u001b[0m: GlobalHydra is already initialized, call GlobalHydra.instance().clear() if you want to re-initialize"
     ]
    }
   ],
   "source": [
    "import hydra\n",
    "hydra.initialize(config_path='configs')\n",
    "cfg = hydra.compose(config_name='config_env3_corners')\n"
   ]
  },
  {
   "cell_type": "code",
   "execution_count": 32,
   "metadata": {},
   "outputs": [],
   "source": [
    "cfg = hydra.compose(config_name='config_env1')\n",
    "from lib.gym_windy_gridworld import WindyGridworld\n",
    "env = WindyGridworld(\n",
    "        height=cfg.env.height, \n",
    "        width=cfg.env.width, \n",
    "        rewards=list(cfg.env.rewards), \n",
    "        wind=cfg.env.wind, \n",
    "        start=cfg.env.start, \n",
    "        allowed_actions=list(cfg.env.allowed_actions), \n",
    "        reward_terminates_episode=cfg.env.reward_terminates_episode\n",
    "    )\n",
    "    "
   ]
  },
  {
   "cell_type": "code",
   "execution_count": 33,
   "metadata": {},
   "outputs": [
    {
     "data": {
      "text/plain": [
       "{'initializations': ['random', 'pessimistic', 'optimistic'], 'random_initialization_seed': None, 'num_runs': 5, 'offset': 0.001, 'env': {'height': 20, 'width': 11, 'rewards': [[1, 0, 5]], 'wind': True, 'start': 'random', 'allowed_actions': ['L', 'R', 'C'], 'reward_terminates_episode': True}, 'baseline': {'discount': 0.98, 'alpha': 0.01, 'num_steps': 100000, 'epsilon': 0.05, 'show_rewards': True, 'show_q': True, 'show_trajectory': False}, 'freetime': {'num_steps': 100000, 'epsilon': 0.05, 'discount': 0.98, 'alpha': 0.01, 'alpha_f': 0.01, 'tolerance': 0, 'show_rewards': True, 'show_q': True, 'show_f': False, 'show_f_actions': ['min'], 'show_trajectory': False}, 'trajectory_maps': {'num_plots': 2}, 'q_plots': {'vmin': 0, 'vmax': 1}, 'f_plots': {'vmin': None, 'vmax': None}, 'plot_freetime_vs_baseline_same_table': True}"
      ]
     },
     "execution_count": 33,
     "metadata": {},
     "output_type": "execute_result"
    }
   ],
   "source": [
    "cfg"
   ]
  },
  {
   "cell_type": "code",
   "execution_count": 34,
   "metadata": {},
   "outputs": [
    {
     "data": {
      "text/plain": [
       "{'initializations': ['random', 'pessimistic', 'optimistic'], 'random_initialization_seed': None, 'num_runs': 5, 'offset': 0.001, 'env': {'height': 20, 'width': 11, 'rewards': [[1, 0, 5]], 'wind': True, 'start': 'random', 'allowed_actions': ['L', 'R', 'C'], 'reward_terminates_episode': True}, 'baseline': {'discount': 0.98, 'alpha': 0.01, 'num_steps': 100000, 'epsilon': 0.05, 'show_rewards': True, 'show_q': True, 'show_trajectory': False}, 'freetime': {'num_steps': 100000, 'epsilon': 0.05, 'discount': 0.98, 'alpha': 0.01, 'alpha_f': 0.01, 'tolerance': 0, 'show_rewards': True, 'show_q': True, 'show_f': False, 'show_f_actions': ['min'], 'show_trajectory': False}, 'trajectory_maps': {'num_plots': 2}, 'q_plots': {'vmin': 0, 'vmax': 1}, 'f_plots': {'vmin': None, 'vmax': None}, 'plot_freetime_vs_baseline_same_table': True}"
      ]
     },
     "execution_count": 34,
     "metadata": {},
     "output_type": "execute_result"
    }
   ],
   "source": [
    "cfg.freetime.num_steps = 100000\n",
    "cfg.baseline.num_steps = 100000\n",
    "cfg"
   ]
  },
  {
   "cell_type": "code",
   "execution_count": 35,
   "metadata": {},
   "outputs": [],
   "source": [
    "from lib.algorithms import build_q_table\n",
    "\n",
    "def grid_search(initialization):\n",
    "    \n",
    "    results = {}\n",
    "    for tolerance in [-0.01, -0.001, 0.0, 0.001, 0.01, 0.1, 0.5]:\n",
    "        \n",
    "        results[tolerance] = []\n",
    "        \n",
    "        for exp in range(5):\n",
    "            \n",
    "            Q = build_q_table(\n",
    "                (env.height, env.width),                \n",
    "                env.action_space.n, \n",
    "                initialization = initialization,\n",
    "                seed = cfg.random_initialization_seed # type: ignore\n",
    "            )\n",
    "            \n",
    "            Q, F, rewards, _ = Q_learn_freetime(\n",
    "                env, \n",
    "                Q, \n",
    "                cfg.freetime.num_steps, \n",
    "                cfg.freetime.epsilon, \n",
    "                cfg.freetime.discount, \n",
    "                cfg.freetime.alpha, \n",
    "                cfg.freetime.alpha_f, \n",
    "                tolerance\n",
    "            )\n",
    "            \n",
    "            results[tolerance].append(rewards[-1])\n",
    "    # Baseline\n",
    "    results['baseline'] = []\n",
    "    for exp in range(5):\n",
    "        \n",
    "        Q = build_q_table(\n",
    "                (env.height, env.width),                \n",
    "                env.action_space.n, \n",
    "                initialization = initialization,\n",
    "                seed = cfg.random_initialization_seed # type: ignore\n",
    "            )\n",
    "        \n",
    "        Q, rewards = Q_learn(\n",
    "                env, \n",
    "                Q, \n",
    "                cfg.baseline.num_steps, \n",
    "                cfg.baseline.epsilon, \n",
    "                cfg.baseline.discount, \n",
    "                cfg.baseline.alpha\n",
    "            )\n",
    "        \n",
    "        results['baseline'].append(rewards[-1])\n",
    "\n",
    "    # Ratio\n",
    "    results['ratio'] = []\n",
    "    for exp in range(5):\n",
    "        \n",
    "        Q = build_q_table(\n",
    "                (env.height, env.width),                \n",
    "                env.action_space.n, \n",
    "                initialization = initialization,\n",
    "                seed = cfg.random_initialization_seed # type: ignore\n",
    "            )\n",
    "        \n",
    "        Q, F, rewards, _ = freetime_no_reward(\n",
    "                env, \n",
    "                Q, \n",
    "                cfg.freetime.num_steps, \n",
    "                cfg.freetime.epsilon, \n",
    "                cfg.freetime.discount, \n",
    "                cfg.freetime.alpha, \n",
    "                cfg.freetime.alpha_f, \n",
    "                cfg.freetime.tolerance\n",
    "            )\n",
    "        \n",
    "        results['ratio'].append(rewards[-1])\n",
    "        \n",
    "    results = {k: sum(v)/len(v) for k, v in results.items()} \n",
    "    return results\n"
   ]
  },
  {
   "cell_type": "code",
   "execution_count": 21,
   "metadata": {},
   "outputs": [
    {
     "name": "stderr",
     "output_type": "stream",
     "text": [
      "100%|██████████| 100000/100000 [00:03<00:00, 27815.71it/s]\n",
      "100%|██████████| 100000/100000 [00:03<00:00, 27777.05it/s]\n",
      "100%|██████████| 100000/100000 [00:03<00:00, 27924.56it/s]\n",
      "100%|██████████| 100000/100000 [00:03<00:00, 27302.65it/s]\n",
      "100%|██████████| 100000/100000 [00:03<00:00, 25924.77it/s]\n",
      "100%|██████████| 100000/100000 [00:03<00:00, 27381.22it/s]\n",
      "100%|██████████| 100000/100000 [00:03<00:00, 28224.31it/s]\n",
      "100%|██████████| 100000/100000 [00:03<00:00, 28216.34it/s]\n",
      "100%|██████████| 100000/100000 [00:03<00:00, 25891.18it/s]\n",
      "100%|██████████| 100000/100000 [00:04<00:00, 21812.92it/s]\n",
      "100%|██████████| 100000/100000 [00:04<00:00, 21076.69it/s]\n",
      "100%|██████████| 100000/100000 [00:04<00:00, 23133.61it/s]\n",
      "100%|██████████| 100000/100000 [00:04<00:00, 22754.28it/s]\n",
      "100%|██████████| 100000/100000 [00:04<00:00, 22754.28it/s]\n",
      "100%|██████████| 100000/100000 [00:04<00:00, 23738.19it/s]\n",
      "100%|██████████| 100000/100000 [00:03<00:00, 25407.26it/s]\n",
      "100%|██████████| 100000/100000 [00:04<00:00, 24630.60it/s]\n",
      "100%|██████████| 100000/100000 [00:03<00:00, 25830.93it/s]\n",
      "100%|██████████| 100000/100000 [00:03<00:00, 26414.82it/s]\n",
      "100%|██████████| 100000/100000 [00:03<00:00, 25955.08it/s]\n",
      "100%|██████████| 100000/100000 [00:03<00:00, 26865.84it/s]\n",
      "100%|██████████| 100000/100000 [00:03<00:00, 27121.09it/s]\n",
      "100%|██████████| 100000/100000 [00:03<00:00, 26053.20it/s]\n",
      "100%|██████████| 100000/100000 [00:03<00:00, 25336.39it/s]\n",
      "100%|██████████| 100000/100000 [00:04<00:00, 24767.99it/s]\n",
      "100%|██████████| 100000/100000 [00:03<00:00, 25934.86it/s]\n",
      "100%|██████████| 100000/100000 [00:03<00:00, 26411.32it/s]\n",
      "100%|██████████| 100000/100000 [00:03<00:00, 26237.93it/s]\n",
      "100%|██████████| 100000/100000 [00:03<00:00, 25717.91it/s]\n",
      "100%|██████████| 100000/100000 [00:03<00:00, 26272.43it/s]\n",
      "100%|██████████| 100000/100000 [00:03<00:00, 26941.90it/s]\n",
      "100%|██████████| 100000/100000 [00:03<00:00, 26891.15it/s]\n",
      "100%|██████████| 100000/100000 [00:03<00:00, 26740.01it/s]\n",
      "100%|██████████| 100000/100000 [00:03<00:00, 26952.81it/s]\n",
      "100%|██████████| 100000/100000 [00:03<00:00, 26844.18it/s]\n",
      "100%|██████████| 100000/100000 [00:03<00:00, 30592.18it/s]\n",
      "100%|██████████| 100000/100000 [00:03<00:00, 30866.26it/s]\n",
      "100%|██████████| 100000/100000 [00:03<00:00, 29512.35it/s]\n",
      "100%|██████████| 100000/100000 [00:03<00:00, 29542.89it/s]\n",
      "100%|██████████| 100000/100000 [00:03<00:00, 29665.70it/s]\n",
      "100%|██████████| 100000/100000 [00:04<00:00, 23572.97it/s]\n",
      "100%|██████████| 100000/100000 [00:04<00:00, 22531.08it/s]\n",
      "100%|██████████| 100000/100000 [00:04<00:00, 22369.65it/s]\n",
      "100%|██████████| 100000/100000 [00:04<00:00, 22827.07it/s]\n",
      "100%|██████████| 100000/100000 [00:04<00:00, 22942.38it/s]\n"
     ]
    },
    {
     "data": {
      "text/plain": [
       "{-0.01: 4343.6,\n",
       " -0.001: 4309.0,\n",
       " 0.0: 4578.8,\n",
       " 0.001: 3705.8,\n",
       " 0.01: 6098.8,\n",
       " 0.1: 271.2,\n",
       " 0.5: 273.4,\n",
       " 'baseline': 2392.0,\n",
       " 'ratio': 3241.6}"
      ]
     },
     "execution_count": 21,
     "metadata": {},
     "output_type": "execute_result"
    }
   ],
   "source": [
    "results_rand = grid_search('random')\n",
    "results_rand"
   ]
  },
  {
   "cell_type": "code",
   "execution_count": 23,
   "metadata": {},
   "outputs": [
    {
     "name": "stderr",
     "output_type": "stream",
     "text": [
      "100%|██████████| 100000/100000 [00:04<00:00, 20213.24it/s]\n",
      "100%|██████████| 100000/100000 [00:04<00:00, 21092.26it/s]\n",
      "100%|██████████| 100000/100000 [00:04<00:00, 21410.92it/s]\n",
      "100%|██████████| 100000/100000 [00:04<00:00, 20632.74it/s]\n",
      "100%|██████████| 100000/100000 [00:04<00:00, 20552.11it/s]\n",
      "100%|██████████| 100000/100000 [00:04<00:00, 21786.75it/s]\n",
      "100%|██████████| 100000/100000 [00:04<00:00, 21429.28it/s]\n",
      "100%|██████████| 100000/100000 [00:04<00:00, 20028.88it/s]\n",
      "100%|██████████| 100000/100000 [00:04<00:00, 20168.36it/s]\n",
      "100%|██████████| 100000/100000 [00:04<00:00, 20461.61it/s]\n",
      "100%|██████████| 100000/100000 [00:04<00:00, 20834.96it/s]\n",
      "100%|██████████| 100000/100000 [00:04<00:00, 20937.56it/s]\n",
      "100%|██████████| 100000/100000 [00:04<00:00, 21491.51it/s]\n",
      "100%|██████████| 100000/100000 [00:04<00:00, 21130.18it/s]\n",
      "100%|██████████| 100000/100000 [00:04<00:00, 21038.97it/s]\n",
      "100%|██████████| 100000/100000 [00:04<00:00, 21206.42it/s]\n",
      "100%|██████████| 100000/100000 [00:04<00:00, 20804.59it/s]\n",
      "100%|██████████| 100000/100000 [00:04<00:00, 21112.32it/s]\n",
      "100%|██████████| 100000/100000 [00:04<00:00, 20289.18it/s]\n",
      "100%|██████████| 100000/100000 [00:04<00:00, 21378.85it/s]\n",
      "100%|██████████| 100000/100000 [00:04<00:00, 21949.48it/s]\n",
      "100%|██████████| 100000/100000 [00:04<00:00, 21713.36it/s]\n",
      "100%|██████████| 100000/100000 [00:04<00:00, 22046.34it/s]\n",
      "100%|██████████| 100000/100000 [00:04<00:00, 22217.93it/s]\n",
      "100%|██████████| 100000/100000 [00:04<00:00, 20874.13it/s]\n",
      "100%|██████████| 100000/100000 [00:04<00:00, 21431.58it/s]\n",
      "100%|██████████| 100000/100000 [00:04<00:00, 21699.22it/s]\n",
      "100%|██████████| 100000/100000 [00:04<00:00, 21718.09it/s]\n",
      "100%|██████████| 100000/100000 [00:04<00:00, 21805.76it/s]\n",
      "100%|██████████| 100000/100000 [00:04<00:00, 21687.44it/s]\n",
      "100%|██████████| 100000/100000 [00:04<00:00, 21385.71it/s]\n",
      "100%|██████████| 100000/100000 [00:04<00:00, 22163.72it/s]\n",
      "100%|██████████| 100000/100000 [00:04<00:00, 21447.68it/s]\n",
      "100%|██████████| 100000/100000 [00:04<00:00, 21610.04it/s]\n",
      "100%|██████████| 100000/100000 [00:04<00:00, 21340.04it/s]\n",
      "100%|██████████| 100000/100000 [00:03<00:00, 25009.77it/s]\n",
      "100%|██████████| 100000/100000 [00:03<00:00, 25151.43it/s]\n",
      "100%|██████████| 100000/100000 [00:03<00:00, 25507.80it/s]\n",
      "100%|██████████| 100000/100000 [00:03<00:00, 27850.60it/s]\n",
      "100%|██████████| 100000/100000 [00:03<00:00, 26293.17it/s]\n",
      "100%|██████████| 100000/100000 [00:04<00:00, 20854.53it/s]\n",
      "100%|██████████| 100000/100000 [00:04<00:00, 21365.13it/s]\n",
      "100%|██████████| 100000/100000 [00:04<00:00, 20318.06it/s]\n",
      "100%|██████████| 100000/100000 [00:04<00:00, 22317.19it/s]\n",
      "100%|██████████| 100000/100000 [00:04<00:00, 20365.68it/s]\n"
     ]
    },
    {
     "data": {
      "text/plain": [
       "{-0.01: 1163.8,\n",
       " -0.001: 1162.0,\n",
       " 0.0: 1164.2,\n",
       " 0.001: 1161.0,\n",
       " 0.01: 1161.6,\n",
       " 0.1: 285.4,\n",
       " 0.5: 279.2,\n",
       " 'baseline': 1163.4,\n",
       " 'ratio': 1162.2}"
      ]
     },
     "execution_count": 23,
     "metadata": {},
     "output_type": "execute_result"
    }
   ],
   "source": [
    "results_opt = grid_search('optimistic')\n",
    "results_opt"
   ]
  },
  {
   "cell_type": "code",
   "execution_count": 22,
   "metadata": {},
   "outputs": [
    {
     "name": "stderr",
     "output_type": "stream",
     "text": [
      "100%|██████████| 100000/100000 [00:04<00:00, 23233.12it/s]\n",
      "100%|██████████| 100000/100000 [00:04<00:00, 20315.99it/s]\n",
      "100%|██████████| 100000/100000 [00:04<00:00, 22908.18it/s]\n",
      "100%|██████████| 100000/100000 [00:04<00:00, 23547.96it/s]\n",
      "100%|██████████| 100000/100000 [00:04<00:00, 24087.28it/s]\n",
      "100%|██████████| 100000/100000 [00:04<00:00, 22958.19it/s]\n",
      "100%|██████████| 100000/100000 [00:04<00:00, 21381.14it/s]\n",
      "100%|██████████| 100000/100000 [00:04<00:00, 21274.16it/s]\n",
      "100%|██████████| 100000/100000 [00:04<00:00, 22475.32it/s]\n",
      "100%|██████████| 100000/100000 [00:04<00:00, 22250.09it/s]\n",
      "100%|██████████| 100000/100000 [00:04<00:00, 21376.56it/s]\n",
      "100%|██████████| 100000/100000 [00:04<00:00, 21582.04it/s]\n",
      "100%|██████████| 100000/100000 [00:04<00:00, 21586.70it/s]\n",
      "100%|██████████| 100000/100000 [00:04<00:00, 21456.90it/s]\n",
      "100%|██████████| 100000/100000 [00:04<00:00, 20739.81it/s]\n",
      "100%|██████████| 100000/100000 [00:04<00:00, 21127.95it/s]\n",
      "100%|██████████| 100000/100000 [00:04<00:00, 21157.02it/s]\n",
      "100%|██████████| 100000/100000 [00:04<00:00, 21319.55it/s]\n",
      "100%|██████████| 100000/100000 [00:04<00:00, 21951.90it/s]\n",
      "100%|██████████| 100000/100000 [00:04<00:00, 22354.64it/s]\n",
      "100%|██████████| 100000/100000 [00:04<00:00, 22029.34it/s]\n",
      "100%|██████████| 100000/100000 [00:04<00:00, 21678.03it/s]\n",
      "100%|██████████| 100000/100000 [00:04<00:00, 22068.27it/s]\n",
      "100%|██████████| 100000/100000 [00:04<00:00, 22260.01it/s]\n",
      "100%|██████████| 100000/100000 [00:04<00:00, 21516.97it/s]\n",
      "100%|██████████| 100000/100000 [00:04<00:00, 22217.94it/s]\n",
      "100%|██████████| 100000/100000 [00:04<00:00, 23806.06it/s]\n",
      "100%|██████████| 100000/100000 [00:04<00:00, 23176.54it/s]\n",
      "100%|██████████| 100000/100000 [00:04<00:00, 22161.27it/s]\n",
      "100%|██████████| 100000/100000 [00:04<00:00, 21589.04it/s]\n",
      "100%|██████████| 100000/100000 [00:04<00:00, 24482.74it/s]\n",
      "100%|██████████| 100000/100000 [00:04<00:00, 24645.80it/s]\n",
      "100%|██████████| 100000/100000 [00:04<00:00, 22725.81it/s]\n",
      "100%|██████████| 100000/100000 [00:04<00:00, 21882.18it/s]\n",
      "100%|██████████| 100000/100000 [00:04<00:00, 22250.09it/s]\n",
      "100%|██████████| 100000/100000 [00:03<00:00, 26043.02it/s]\n",
      "100%|██████████| 100000/100000 [00:03<00:00, 25931.50it/s]\n",
      "100%|██████████| 100000/100000 [00:03<00:00, 25632.13it/s]\n",
      "100%|██████████| 100000/100000 [00:03<00:00, 25478.53it/s]\n",
      "100%|██████████| 100000/100000 [00:03<00:00, 25176.78it/s]\n",
      "100%|██████████| 100000/100000 [00:04<00:00, 21575.04it/s]\n",
      "100%|██████████| 100000/100000 [00:04<00:00, 22136.71it/s]\n",
      "100%|██████████| 100000/100000 [00:04<00:00, 22183.40it/s]\n",
      "100%|██████████| 100000/100000 [00:04<00:00, 21729.89it/s]\n",
      "100%|██████████| 100000/100000 [00:04<00:00, 21810.53it/s]\n"
     ]
    },
    {
     "data": {
      "text/plain": [
       "{-0.01: 8517.2,\n",
       " -0.001: 8665.4,\n",
       " 0.0: 8277.8,\n",
       " 0.001: 1116.6,\n",
       " 0.01: 799.6,\n",
       " 0.1: 434.4,\n",
       " 0.5: 274.6,\n",
       " 'baseline': 8130.8,\n",
       " 'ratio': 1184.8}"
      ]
     },
     "execution_count": 22,
     "metadata": {},
     "output_type": "execute_result"
    }
   ],
   "source": [
    "results_pess = grid_search('pessimistic')\n",
    "results_pess"
   ]
  },
  {
   "cell_type": "code",
   "execution_count": 24,
   "metadata": {},
   "outputs": [
    {
     "name": "stdout",
     "output_type": "stream",
     "text": [
      "Pess Init Env 4: No wind\n"
     ]
    },
    {
     "data": {
      "text/plain": [
       "{-0.01: 8517.2,\n",
       " -0.001: 8665.4,\n",
       " 0.0: 8277.8,\n",
       " 0.001: 1116.6,\n",
       " 0.01: 799.6,\n",
       " 0.1: 434.4,\n",
       " 0.5: 274.6,\n",
       " 'baseline': 8130.8,\n",
       " 'ratio': 1184.8}"
      ]
     },
     "execution_count": 24,
     "metadata": {},
     "output_type": "execute_result"
    }
   ],
   "source": [
    "print(\"Pess Init Env 4: No wind\")\n",
    "results_pess"
   ]
  },
  {
   "cell_type": "code",
   "execution_count": 25,
   "metadata": {},
   "outputs": [
    {
     "name": "stdout",
     "output_type": "stream",
     "text": [
      "Opt Init Env 4: No wind\n"
     ]
    },
    {
     "data": {
      "text/plain": [
       "{-0.01: 1163.8,\n",
       " -0.001: 1162.0,\n",
       " 0.0: 1164.2,\n",
       " 0.001: 1161.0,\n",
       " 0.01: 1161.6,\n",
       " 0.1: 285.4,\n",
       " 0.5: 279.2,\n",
       " 'baseline': 1163.4,\n",
       " 'ratio': 1162.2}"
      ]
     },
     "execution_count": 25,
     "metadata": {},
     "output_type": "execute_result"
    }
   ],
   "source": [
    "print(\"Opt Init Env 4: No wind\")\n",
    "results_opt"
   ]
  },
  {
   "cell_type": "code",
   "execution_count": 26,
   "metadata": {},
   "outputs": [
    {
     "name": "stdout",
     "output_type": "stream",
     "text": [
      "Rand Init Env 4: No wind\n"
     ]
    },
    {
     "data": {
      "text/plain": [
       "{-0.01: 4343.6,\n",
       " -0.001: 4309.0,\n",
       " 0.0: 4578.8,\n",
       " 0.001: 3705.8,\n",
       " 0.01: 6098.8,\n",
       " 0.1: 271.2,\n",
       " 0.5: 273.4,\n",
       " 'baseline': 2392.0,\n",
       " 'ratio': 3241.6}"
      ]
     },
     "execution_count": 26,
     "metadata": {},
     "output_type": "execute_result"
    }
   ],
   "source": [
    "print(\"Rand Init Env 4: No wind\")\n",
    "results_rand"
   ]
  }
 ],
 "metadata": {
  "interpreter": {
   "hash": "90905c750a726539e634e915b114a8b94d03bbc27907c6387cd368d1e3eba5e0"
  },
  "kernelspec": {
   "display_name": "Python 3.8.12 ('rl_env')",
   "language": "python",
   "name": "python3"
  },
  "language_info": {
   "codemirror_mode": {
    "name": "ipython",
    "version": 3
   },
   "file_extension": ".py",
   "mimetype": "text/x-python",
   "name": "python",
   "nbconvert_exporter": "python",
   "pygments_lexer": "ipython3",
   "version": "3.9.12"
  },
  "orig_nbformat": 4
 },
 "nbformat": 4,
 "nbformat_minor": 2
}
