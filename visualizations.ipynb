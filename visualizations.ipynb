{
 "cells": [
  {
   "cell_type": "code",
   "execution_count": 13,
   "metadata": {},
   "outputs": [],
   "source": [
    "from lib.algorithms import Q_learn_freetime, Q_learn, freetime_no_reward"
   ]
  },
  {
   "cell_type": "code",
   "execution_count": 27,
   "metadata": {},
   "outputs": [
    {
     "ename": "ValueError",
     "evalue": "GlobalHydra is already initialized, call GlobalHydra.instance().clear() if you want to re-initialize",
     "output_type": "error",
     "traceback": [
      "\u001b[1;31m---------------------------------------------------------------------------\u001b[0m",
      "\u001b[1;31mValueError\u001b[0m                                Traceback (most recent call last)",
      "\u001b[1;32mc:\\Users\\haash\\Desktop\\RL FREETIME\\freetime-git\\freetime\\visualizations.ipynb Cell 2'\u001b[0m in \u001b[0;36m<cell line: 2>\u001b[1;34m()\u001b[0m\n\u001b[0;32m      <a href='vscode-notebook-cell:/c%3A/Users/haash/Desktop/RL%20FREETIME/freetime-git/freetime/visualizations.ipynb#ch0000001?line=0'>1</a>\u001b[0m \u001b[39mimport\u001b[39;00m \u001b[39mhydra\u001b[39;00m\n\u001b[1;32m----> <a href='vscode-notebook-cell:/c%3A/Users/haash/Desktop/RL%20FREETIME/freetime-git/freetime/visualizations.ipynb#ch0000001?line=1'>2</a>\u001b[0m hydra\u001b[39m.\u001b[39;49minitialize(config_path\u001b[39m=\u001b[39;49m\u001b[39m'\u001b[39;49m\u001b[39mconfigs\u001b[39;49m\u001b[39m'\u001b[39;49m)\n\u001b[0;32m      <a href='vscode-notebook-cell:/c%3A/Users/haash/Desktop/RL%20FREETIME/freetime-git/freetime/visualizations.ipynb#ch0000001?line=2'>3</a>\u001b[0m cfg \u001b[39m=\u001b[39m hydra\u001b[39m.\u001b[39mcompose(config_name\u001b[39m=\u001b[39m\u001b[39m'\u001b[39m\u001b[39mconfig_env3_corners\u001b[39m\u001b[39m'\u001b[39m)\n",
      "File \u001b[1;32m~\\AppData\\Local\\Packages\\PythonSoftwareFoundation.Python.3.9_qbz5n2kfra8p0\\LocalCache\\local-packages\\Python39\\site-packages\\hydra\\initialize.py:84\u001b[0m, in \u001b[0;36minitialize.__init__\u001b[1;34m(self, config_path, job_name, caller_stack_depth)\u001b[0m\n\u001b[0;32m     <a href='file:///c%3A/Users/haash/AppData/Local/Packages/PythonSoftwareFoundation.Python.3.9_qbz5n2kfra8p0/LocalCache/local-packages/Python39/site-packages/hydra/initialize.py?line=78'>79</a>\u001b[0m \u001b[39mif\u001b[39;00m job_name \u001b[39mis\u001b[39;00m \u001b[39mNone\u001b[39;00m:\n\u001b[0;32m     <a href='file:///c%3A/Users/haash/AppData/Local/Packages/PythonSoftwareFoundation.Python.3.9_qbz5n2kfra8p0/LocalCache/local-packages/Python39/site-packages/hydra/initialize.py?line=79'>80</a>\u001b[0m     job_name \u001b[39m=\u001b[39m detect_task_name(\n\u001b[0;32m     <a href='file:///c%3A/Users/haash/AppData/Local/Packages/PythonSoftwareFoundation.Python.3.9_qbz5n2kfra8p0/LocalCache/local-packages/Python39/site-packages/hydra/initialize.py?line=80'>81</a>\u001b[0m         calling_file\u001b[39m=\u001b[39mcalling_file, calling_module\u001b[39m=\u001b[39mcalling_module\n\u001b[0;32m     <a href='file:///c%3A/Users/haash/AppData/Local/Packages/PythonSoftwareFoundation.Python.3.9_qbz5n2kfra8p0/LocalCache/local-packages/Python39/site-packages/hydra/initialize.py?line=81'>82</a>\u001b[0m     )\n\u001b[1;32m---> <a href='file:///c%3A/Users/haash/AppData/Local/Packages/PythonSoftwareFoundation.Python.3.9_qbz5n2kfra8p0/LocalCache/local-packages/Python39/site-packages/hydra/initialize.py?line=83'>84</a>\u001b[0m Hydra\u001b[39m.\u001b[39;49mcreate_main_hydra_file_or_module(\n\u001b[0;32m     <a href='file:///c%3A/Users/haash/AppData/Local/Packages/PythonSoftwareFoundation.Python.3.9_qbz5n2kfra8p0/LocalCache/local-packages/Python39/site-packages/hydra/initialize.py?line=84'>85</a>\u001b[0m     calling_file\u001b[39m=\u001b[39;49mcalling_file,\n\u001b[0;32m     <a href='file:///c%3A/Users/haash/AppData/Local/Packages/PythonSoftwareFoundation.Python.3.9_qbz5n2kfra8p0/LocalCache/local-packages/Python39/site-packages/hydra/initialize.py?line=85'>86</a>\u001b[0m     calling_module\u001b[39m=\u001b[39;49mcalling_module,\n\u001b[0;32m     <a href='file:///c%3A/Users/haash/AppData/Local/Packages/PythonSoftwareFoundation.Python.3.9_qbz5n2kfra8p0/LocalCache/local-packages/Python39/site-packages/hydra/initialize.py?line=86'>87</a>\u001b[0m     config_path\u001b[39m=\u001b[39;49mconfig_path,\n\u001b[0;32m     <a href='file:///c%3A/Users/haash/AppData/Local/Packages/PythonSoftwareFoundation.Python.3.9_qbz5n2kfra8p0/LocalCache/local-packages/Python39/site-packages/hydra/initialize.py?line=87'>88</a>\u001b[0m     job_name\u001b[39m=\u001b[39;49mjob_name,\n\u001b[0;32m     <a href='file:///c%3A/Users/haash/AppData/Local/Packages/PythonSoftwareFoundation.Python.3.9_qbz5n2kfra8p0/LocalCache/local-packages/Python39/site-packages/hydra/initialize.py?line=88'>89</a>\u001b[0m )\n",
      "File \u001b[1;32m~\\AppData\\Local\\Packages\\PythonSoftwareFoundation.Python.3.9_qbz5n2kfra8p0\\LocalCache\\local-packages\\Python39\\site-packages\\hydra\\_internal\\hydra.py:53\u001b[0m, in \u001b[0;36mHydra.create_main_hydra_file_or_module\u001b[1;34m(cls, calling_file, calling_module, config_path, job_name)\u001b[0m\n\u001b[0;32m     <a href='file:///c%3A/Users/haash/AppData/Local/Packages/PythonSoftwareFoundation.Python.3.9_qbz5n2kfra8p0/LocalCache/local-packages/Python39/site-packages/hydra/_internal/hydra.py?line=40'>41</a>\u001b[0m \u001b[39m@classmethod\u001b[39m\n\u001b[0;32m     <a href='file:///c%3A/Users/haash/AppData/Local/Packages/PythonSoftwareFoundation.Python.3.9_qbz5n2kfra8p0/LocalCache/local-packages/Python39/site-packages/hydra/_internal/hydra.py?line=41'>42</a>\u001b[0m \u001b[39mdef\u001b[39;00m \u001b[39mcreate_main_hydra_file_or_module\u001b[39m(\n\u001b[0;32m     <a href='file:///c%3A/Users/haash/AppData/Local/Packages/PythonSoftwareFoundation.Python.3.9_qbz5n2kfra8p0/LocalCache/local-packages/Python39/site-packages/hydra/_internal/hydra.py?line=42'>43</a>\u001b[0m     \u001b[39mcls\u001b[39m: Type[\u001b[39m\"\u001b[39m\u001b[39mHydra\u001b[39m\u001b[39m\"\u001b[39m],\n\u001b[1;32m   (...)\u001b[0m\n\u001b[0;32m     <a href='file:///c%3A/Users/haash/AppData/Local/Packages/PythonSoftwareFoundation.Python.3.9_qbz5n2kfra8p0/LocalCache/local-packages/Python39/site-packages/hydra/_internal/hydra.py?line=46'>47</a>\u001b[0m     job_name: \u001b[39mstr\u001b[39m,\n\u001b[0;32m     <a href='file:///c%3A/Users/haash/AppData/Local/Packages/PythonSoftwareFoundation.Python.3.9_qbz5n2kfra8p0/LocalCache/local-packages/Python39/site-packages/hydra/_internal/hydra.py?line=47'>48</a>\u001b[0m ) \u001b[39m-\u001b[39m\u001b[39m>\u001b[39m \u001b[39m\"\u001b[39m\u001b[39mHydra\u001b[39m\u001b[39m\"\u001b[39m:\n\u001b[0;32m     <a href='file:///c%3A/Users/haash/AppData/Local/Packages/PythonSoftwareFoundation.Python.3.9_qbz5n2kfra8p0/LocalCache/local-packages/Python39/site-packages/hydra/_internal/hydra.py?line=48'>49</a>\u001b[0m     config_search_path \u001b[39m=\u001b[39m create_automatic_config_search_path(\n\u001b[0;32m     <a href='file:///c%3A/Users/haash/AppData/Local/Packages/PythonSoftwareFoundation.Python.3.9_qbz5n2kfra8p0/LocalCache/local-packages/Python39/site-packages/hydra/_internal/hydra.py?line=49'>50</a>\u001b[0m         calling_file, calling_module, config_path\n\u001b[0;32m     <a href='file:///c%3A/Users/haash/AppData/Local/Packages/PythonSoftwareFoundation.Python.3.9_qbz5n2kfra8p0/LocalCache/local-packages/Python39/site-packages/hydra/_internal/hydra.py?line=50'>51</a>\u001b[0m     )\n\u001b[1;32m---> <a href='file:///c%3A/Users/haash/AppData/Local/Packages/PythonSoftwareFoundation.Python.3.9_qbz5n2kfra8p0/LocalCache/local-packages/Python39/site-packages/hydra/_internal/hydra.py?line=52'>53</a>\u001b[0m     \u001b[39mreturn\u001b[39;00m Hydra\u001b[39m.\u001b[39;49mcreate_main_hydra2(job_name, config_search_path)\n",
      "File \u001b[1;32m~\\AppData\\Local\\Packages\\PythonSoftwareFoundation.Python.3.9_qbz5n2kfra8p0\\LocalCache\\local-packages\\Python39\\site-packages\\hydra\\_internal\\hydra.py:68\u001b[0m, in \u001b[0;36mHydra.create_main_hydra2\u001b[1;34m(cls, task_name, config_search_path)\u001b[0m\n\u001b[0;32m     <a href='file:///c%3A/Users/haash/AppData/Local/Packages/PythonSoftwareFoundation.Python.3.9_qbz5n2kfra8p0/LocalCache/local-packages/Python39/site-packages/hydra/_internal/hydra.py?line=64'>65</a>\u001b[0m hydra \u001b[39m=\u001b[39m \u001b[39mcls\u001b[39m(task_name\u001b[39m=\u001b[39mtask_name, config_loader\u001b[39m=\u001b[39mconfig_loader)\n\u001b[0;32m     <a href='file:///c%3A/Users/haash/AppData/Local/Packages/PythonSoftwareFoundation.Python.3.9_qbz5n2kfra8p0/LocalCache/local-packages/Python39/site-packages/hydra/_internal/hydra.py?line=65'>66</a>\u001b[0m \u001b[39mfrom\u001b[39;00m \u001b[39mhydra\u001b[39;00m\u001b[39m.\u001b[39;00m\u001b[39mcore\u001b[39;00m\u001b[39m.\u001b[39;00m\u001b[39mglobal_hydra\u001b[39;00m \u001b[39mimport\u001b[39;00m GlobalHydra\n\u001b[1;32m---> <a href='file:///c%3A/Users/haash/AppData/Local/Packages/PythonSoftwareFoundation.Python.3.9_qbz5n2kfra8p0/LocalCache/local-packages/Python39/site-packages/hydra/_internal/hydra.py?line=67'>68</a>\u001b[0m GlobalHydra\u001b[39m.\u001b[39;49minstance()\u001b[39m.\u001b[39;49minitialize(hydra)\n\u001b[0;32m     <a href='file:///c%3A/Users/haash/AppData/Local/Packages/PythonSoftwareFoundation.Python.3.9_qbz5n2kfra8p0/LocalCache/local-packages/Python39/site-packages/hydra/_internal/hydra.py?line=68'>69</a>\u001b[0m \u001b[39mreturn\u001b[39;00m hydra\n",
      "File \u001b[1;32m~\\AppData\\Local\\Packages\\PythonSoftwareFoundation.Python.3.9_qbz5n2kfra8p0\\LocalCache\\local-packages\\Python39\\site-packages\\hydra\\core\\global_hydra.py:16\u001b[0m, in \u001b[0;36mGlobalHydra.initialize\u001b[1;34m(self, hydra)\u001b[0m\n\u001b[0;32m     <a href='file:///c%3A/Users/haash/AppData/Local/Packages/PythonSoftwareFoundation.Python.3.9_qbz5n2kfra8p0/LocalCache/local-packages/Python39/site-packages/hydra/core/global_hydra.py?line=13'>14</a>\u001b[0m \u001b[39massert\u001b[39;00m \u001b[39misinstance\u001b[39m(hydra, Hydra), \u001b[39mf\u001b[39m\u001b[39m\"\u001b[39m\u001b[39mUnexpected Hydra type : \u001b[39m\u001b[39m{\u001b[39;00m\u001b[39mtype\u001b[39m(hydra)\u001b[39m}\u001b[39;00m\u001b[39m\"\u001b[39m\n\u001b[0;32m     <a href='file:///c%3A/Users/haash/AppData/Local/Packages/PythonSoftwareFoundation.Python.3.9_qbz5n2kfra8p0/LocalCache/local-packages/Python39/site-packages/hydra/core/global_hydra.py?line=14'>15</a>\u001b[0m \u001b[39mif\u001b[39;00m \u001b[39mself\u001b[39m\u001b[39m.\u001b[39mis_initialized():\n\u001b[1;32m---> <a href='file:///c%3A/Users/haash/AppData/Local/Packages/PythonSoftwareFoundation.Python.3.9_qbz5n2kfra8p0/LocalCache/local-packages/Python39/site-packages/hydra/core/global_hydra.py?line=15'>16</a>\u001b[0m     \u001b[39mraise\u001b[39;00m \u001b[39mValueError\u001b[39;00m(\n\u001b[0;32m     <a href='file:///c%3A/Users/haash/AppData/Local/Packages/PythonSoftwareFoundation.Python.3.9_qbz5n2kfra8p0/LocalCache/local-packages/Python39/site-packages/hydra/core/global_hydra.py?line=16'>17</a>\u001b[0m         \u001b[39m\"\u001b[39m\u001b[39mGlobalHydra is already initialized, call GlobalHydra.instance().clear() if you want to re-initialize\u001b[39m\u001b[39m\"\u001b[39m\n\u001b[0;32m     <a href='file:///c%3A/Users/haash/AppData/Local/Packages/PythonSoftwareFoundation.Python.3.9_qbz5n2kfra8p0/LocalCache/local-packages/Python39/site-packages/hydra/core/global_hydra.py?line=17'>18</a>\u001b[0m     )\n\u001b[0;32m     <a href='file:///c%3A/Users/haash/AppData/Local/Packages/PythonSoftwareFoundation.Python.3.9_qbz5n2kfra8p0/LocalCache/local-packages/Python39/site-packages/hydra/core/global_hydra.py?line=18'>19</a>\u001b[0m \u001b[39mself\u001b[39m\u001b[39m.\u001b[39mhydra \u001b[39m=\u001b[39m hydra\n",
      "\u001b[1;31mValueError\u001b[0m: GlobalHydra is already initialized, call GlobalHydra.instance().clear() if you want to re-initialize"
     ]
    }
   ],
   "source": [
    "import hydra\n",
    "hydra.initialize(config_path='configs')\n",
    "cfg = hydra.compose(config_name='config_env3_corners')\n"
   ]
  },
  {
   "cell_type": "code",
   "execution_count": 48,
   "metadata": {},
   "outputs": [],
   "source": [
    "cfg = hydra.compose(config_name='config')\n",
    "from lib.gym_windy_gridworld import WindyGridworld\n",
    "env = WindyGridworld(\n",
    "        height=cfg.env.height, \n",
    "        width=cfg.env.width, \n",
    "        rewards=list(cfg.env.rewards), \n",
    "        wind=cfg.env.wind, \n",
    "        start=cfg.env.start, \n",
    "        allowed_actions=list(cfg.env.allowed_actions), \n",
    "        reward_terminates_episode=cfg.env.reward_terminates_episode\n",
    "    )\n",
    "    "
   ]
  },
  {
   "cell_type": "code",
   "execution_count": 49,
   "metadata": {},
   "outputs": [
    {
     "data": {
      "text/plain": [
       "{'initializations': ['random', 'pessimistic', 'optimistic'], 'random_initialization_seed': None, 'num_runs': 5, 'offset': 0.001, 'env': {'height': 20, 'width': 11, 'rewards': [[1, 1, 6], [1, 3, 4]], 'wind': True, 'start': 'random', 'allowed_actions': ['L', 'R', 'C'], 'reward_terminates_episode': False}, 'baseline': {'discount': 0.98, 'alpha': 0.01, 'num_steps': 100000, 'epsilon': 0.05, 'show_rewards': True, 'show_q': True, 'show_trajectory': False}, 'freetime': {'num_steps': 100000, 'epsilon': 0.05, 'discount': 0.98, 'alpha': 0.01, 'alpha_f': 0.01, 'tolerance': 0, 'show_rewards': True, 'show_q': True, 'show_f': False, 'show_f_actions': ['min'], 'show_trajectory': True}, 'trajectory_maps': {'num_plots': 2}, 'q_plots': {'vmin': 0, 'vmax': 2}, 'f_plots': {'vmin': None, 'vmax': None}, 'plot_freetime_vs_baseline_same_table': True}"
      ]
     },
     "execution_count": 49,
     "metadata": {},
     "output_type": "execute_result"
    }
   ],
   "source": [
    "cfg"
   ]
  },
  {
   "cell_type": "code",
   "execution_count": 50,
   "metadata": {},
   "outputs": [
    {
     "data": {
      "text/plain": [
       "{'initializations': ['random', 'pessimistic', 'optimistic'], 'random_initialization_seed': None, 'num_runs': 5, 'offset': 0.001, 'env': {'height': 20, 'width': 11, 'rewards': [[1, 1, 6], [1, 3, 4]], 'wind': True, 'start': 'random', 'allowed_actions': ['L', 'R', 'C'], 'reward_terminates_episode': False}, 'baseline': {'discount': 0.98, 'alpha': 0.01, 'num_steps': 100000, 'epsilon': 0.05, 'show_rewards': True, 'show_q': True, 'show_trajectory': False}, 'freetime': {'num_steps': 100000, 'epsilon': 0.05, 'discount': 0.98, 'alpha': 0.01, 'alpha_f': 0.01, 'tolerance': 0, 'show_rewards': True, 'show_q': True, 'show_f': False, 'show_f_actions': ['min'], 'show_trajectory': True}, 'trajectory_maps': {'num_plots': 2}, 'q_plots': {'vmin': 0, 'vmax': 2}, 'f_plots': {'vmin': None, 'vmax': None}, 'plot_freetime_vs_baseline_same_table': True}"
      ]
     },
     "execution_count": 50,
     "metadata": {},
     "output_type": "execute_result"
    }
   ],
   "source": [
    "cfg.freetime.num_steps = 100000\n",
    "cfg.baseline.num_steps = 100000\n",
    "cfg"
   ]
  },
  {
   "cell_type": "code",
   "execution_count": 51,
   "metadata": {},
   "outputs": [],
   "source": [
    "from lib.algorithms import build_q_table\n",
    "\n",
    "def grid_search(initialization):\n",
    "    \n",
    "    results = {}\n",
    "    for tolerance in [-0.01, -0.001, 0.0, 0.001, 0.01, 0.1, 0.5]:\n",
    "        \n",
    "        results[tolerance] = []\n",
    "        \n",
    "        for exp in range(5):\n",
    "            \n",
    "            Q = build_q_table(\n",
    "                (env.height, env.width),                \n",
    "                env.action_space.n, \n",
    "                initialization = initialization,\n",
    "                seed = cfg.random_initialization_seed # type: ignore\n",
    "            )\n",
    "            \n",
    "            Q, F, rewards, _ = Q_learn_freetime(\n",
    "                env, \n",
    "                Q, \n",
    "                cfg.freetime.num_steps, \n",
    "                cfg.freetime.epsilon, \n",
    "                cfg.freetime.discount, \n",
    "                cfg.freetime.alpha, \n",
    "                cfg.freetime.alpha_f, \n",
    "                tolerance\n",
    "            )\n",
    "            \n",
    "            results[tolerance].append(rewards[-1])\n",
    "    # Baseline\n",
    "    results['baseline'] = []\n",
    "    for exp in range(5):\n",
    "        \n",
    "        Q = build_q_table(\n",
    "                (env.height, env.width),                \n",
    "                env.action_space.n, \n",
    "                initialization = initialization,\n",
    "                seed = cfg.random_initialization_seed # type: ignore\n",
    "            )\n",
    "        \n",
    "        Q, rewards = Q_learn(\n",
    "                env, \n",
    "                Q, \n",
    "                cfg.baseline.num_steps, \n",
    "                cfg.baseline.epsilon, \n",
    "                cfg.baseline.discount, \n",
    "                cfg.baseline.alpha\n",
    "            )\n",
    "        \n",
    "        results['baseline'].append(rewards[-1])\n",
    "\n",
    "    # Ratio\n",
    "    results['ratio'] = []\n",
    "    for exp in range(5):\n",
    "        \n",
    "        Q = build_q_table(\n",
    "                (env.height, env.width),                \n",
    "                env.action_space.n, \n",
    "                initialization = initialization,\n",
    "                seed = cfg.random_initialization_seed # type: ignore\n",
    "            )\n",
    "        \n",
    "        Q, F, rewards, _ = freetime_no_reward(\n",
    "                env, \n",
    "                Q, \n",
    "                cfg.freetime.num_steps, \n",
    "                cfg.freetime.epsilon, \n",
    "                cfg.freetime.discount, \n",
    "                cfg.freetime.alpha, \n",
    "                cfg.freetime.alpha_f, \n",
    "                cfg.freetime.tolerance\n",
    "            )\n",
    "        \n",
    "        results['ratio'].append(rewards[-1])\n",
    "        \n",
    "    results = {k: sum(v)/len(v) for k, v in results.items()} \n",
    "    return results\n"
   ]
  },
  {
   "cell_type": "code",
   "execution_count": 52,
   "metadata": {},
   "outputs": [
    {
     "name": "stderr",
     "output_type": "stream",
     "text": [
      "100%|██████████| 100000/100000 [00:10<00:00, 9780.15it/s]\n",
      "100%|██████████| 100000/100000 [00:10<00:00, 9741.06it/s]\n",
      "100%|██████████| 100000/100000 [00:10<00:00, 9734.89it/s]\n",
      "100%|██████████| 100000/100000 [00:10<00:00, 9740.58it/s]\n",
      "100%|██████████| 100000/100000 [00:10<00:00, 9772.02it/s]\n",
      "100%|██████████| 100000/100000 [00:10<00:00, 9693.80it/s]\n",
      "100%|██████████| 100000/100000 [00:10<00:00, 9731.10it/s]\n",
      "100%|██████████| 100000/100000 [00:10<00:00, 9757.71it/s]\n",
      "100%|██████████| 100000/100000 [00:10<00:00, 9779.68it/s]\n",
      "100%|██████████| 100000/100000 [00:10<00:00, 9766.29it/s]\n",
      "100%|██████████| 100000/100000 [00:10<00:00, 9738.21it/s]\n",
      "100%|██████████| 100000/100000 [00:10<00:00, 9746.76it/s]\n",
      "100%|██████████| 100000/100000 [00:10<00:00, 9750.09it/s]\n",
      "100%|██████████| 100000/100000 [00:10<00:00, 9717.37it/s]\n",
      "100%|██████████| 100000/100000 [00:10<00:00, 9730.15it/s]\n",
      "100%|██████████| 100000/100000 [00:10<00:00, 9738.21it/s]\n",
      "100%|██████████| 100000/100000 [00:10<00:00, 9818.60it/s]\n",
      "100%|██████████| 100000/100000 [00:10<00:00, 9675.97it/s]\n",
      "100%|██████████| 100000/100000 [00:10<00:00, 9766.29it/s]\n",
      "100%|██████████| 100000/100000 [00:10<00:00, 9786.86it/s]\n",
      "100%|██████████| 100000/100000 [00:10<00:00, 9817.15it/s]\n",
      "100%|██████████| 100000/100000 [00:10<00:00, 9834.06it/s]\n",
      "100%|██████████| 100000/100000 [00:10<00:00, 9772.98it/s]\n",
      "100%|██████████| 100000/100000 [00:10<00:00, 9807.51it/s]\n",
      "100%|██████████| 100000/100000 [00:10<00:00, 9798.38it/s]\n",
      "100%|██████████| 100000/100000 [00:10<00:00, 9997.90it/s]\n",
      "100%|██████████| 100000/100000 [00:10<00:00, 9881.72it/s]\n",
      "100%|██████████| 100000/100000 [00:10<00:00, 9924.91it/s]\n",
      "100%|██████████| 100000/100000 [00:10<00:00, 9843.75it/s]\n",
      "100%|██████████| 100000/100000 [00:10<00:00, 9834.06it/s]\n",
      "100%|██████████| 100000/100000 [00:10<00:00, 9876.83it/s]\n",
      "100%|██████████| 100000/100000 [00:10<00:00, 9858.32it/s]\n",
      "100%|██████████| 100000/100000 [00:10<00:00, 9923.43it/s]\n",
      "100%|██████████| 100000/100000 [00:10<00:00, 9837.45it/s]\n",
      "100%|██████████| 100000/100000 [00:10<00:00, 9880.74it/s]\n",
      "100%|██████████| 100000/100000 [00:09<00:00, 10405.55it/s]\n",
      "100%|██████████| 100000/100000 [00:09<00:00, 10526.69it/s]\n",
      "100%|██████████| 100000/100000 [00:09<00:00, 10548.92it/s]\n",
      "100%|██████████| 100000/100000 [00:09<00:00, 10617.29it/s]\n",
      "100%|██████████| 100000/100000 [00:09<00:00, 10577.39it/s]\n",
      "100%|██████████| 100000/100000 [00:10<00:00, 9730.63it/s]\n",
      "100%|██████████| 100000/100000 [00:10<00:00, 9723.05it/s]\n",
      "100%|██████████| 100000/100000 [00:10<00:00, 9639.56it/s]\n",
      "100%|██████████| 100000/100000 [00:10<00:00, 9714.07it/s]\n",
      "100%|██████████| 100000/100000 [00:10<00:00, 9680.19it/s]\n"
     ]
    },
    {
     "data": {
      "text/plain": [
       "{-0.01: 5755.8,\n",
       " -0.001: 6768.8,\n",
       " 0.0: 5867.8,\n",
       " 0.001: 6072.6,\n",
       " 0.01: 6008.6,\n",
       " 0.1: 5026.2,\n",
       " 0.5: 1411.6,\n",
       " 'baseline': 4662.2,\n",
       " 'ratio': 5054.6}"
      ]
     },
     "execution_count": 52,
     "metadata": {},
     "output_type": "execute_result"
    }
   ],
   "source": [
    "results_rand = grid_search('random')\n",
    "results_rand"
   ]
  },
  {
   "cell_type": "code",
   "execution_count": 53,
   "metadata": {},
   "outputs": [
    {
     "name": "stderr",
     "output_type": "stream",
     "text": [
      "100%|██████████| 100000/100000 [00:10<00:00, 9668.01it/s]\n",
      "100%|██████████| 100000/100000 [00:10<00:00, 9594.21it/s]\n",
      "100%|██████████| 100000/100000 [00:10<00:00, 9685.82it/s]\n",
      "100%|██████████| 100000/100000 [00:10<00:00, 9672.69it/s]\n",
      "100%|██████████| 100000/100000 [00:10<00:00, 9507.47it/s]\n",
      "100%|██████████| 100000/100000 [00:10<00:00, 9680.19it/s]\n",
      "100%|██████████| 100000/100000 [00:10<00:00, 9520.16it/s]\n",
      "100%|██████████| 100000/100000 [00:10<00:00, 9622.39it/s]\n",
      "100%|██████████| 100000/100000 [00:11<00:00, 8993.16it/s]\n",
      "100%|██████████| 100000/100000 [00:11<00:00, 8940.46it/s]\n",
      "100%|██████████| 100000/100000 [00:11<00:00, 8905.79it/s]\n",
      "100%|██████████| 100000/100000 [00:11<00:00, 8891.52it/s]\n",
      "100%|██████████| 100000/100000 [00:11<00:00, 9042.00it/s]\n",
      "100%|██████████| 100000/100000 [00:10<00:00, 9123.14it/s]\n",
      "100%|██████████| 100000/100000 [00:10<00:00, 9345.19it/s]\n",
      "100%|██████████| 100000/100000 [00:10<00:00, 9395.27it/s]\n",
      "100%|██████████| 100000/100000 [00:10<00:00, 9313.82it/s]\n",
      "100%|██████████| 100000/100000 [00:10<00:00, 9247.02it/s]\n",
      "100%|██████████| 100000/100000 [00:10<00:00, 9262.02it/s]\n",
      "100%|██████████| 100000/100000 [00:10<00:00, 9367.97it/s]\n",
      "100%|██████████| 100000/100000 [00:10<00:00, 9386.01it/s]\n",
      "100%|██████████| 100000/100000 [00:10<00:00, 9198.49it/s]\n",
      "100%|██████████| 100000/100000 [00:10<00:00, 9326.00it/s]\n",
      "100%|██████████| 100000/100000 [00:10<00:00, 9303.85it/s]\n",
      "100%|██████████| 100000/100000 [00:10<00:00, 9407.22it/s]\n",
      "100%|██████████| 100000/100000 [00:10<00:00, 9283.10it/s]\n",
      "100%|██████████| 100000/100000 [00:10<00:00, 9940.71it/s]\n",
      "100%|██████████| 100000/100000 [00:10<00:00, 9919.49it/s]\n",
      "100%|██████████| 100000/100000 [00:09<00:00, 10009.42it/s]\n",
      "100%|██████████| 100000/100000 [00:10<00:00, 9976.94it/s]\n",
      "100%|██████████| 100000/100000 [00:10<00:00, 9850.54it/s]\n",
      "100%|██████████| 100000/100000 [00:10<00:00, 9961.02it/s]\n",
      "100%|██████████| 100000/100000 [00:09<00:00, 10023.98it/s]\n",
      "100%|██████████| 100000/100000 [00:09<00:00, 10109.69it/s]\n",
      "100%|██████████| 100000/100000 [00:09<00:00, 10034.55it/s]\n",
      "100%|██████████| 100000/100000 [00:09<00:00, 10796.85it/s]\n",
      "100%|██████████| 100000/100000 [00:09<00:00, 10731.91it/s]\n",
      "100%|██████████| 100000/100000 [00:09<00:00, 10760.80it/s]\n",
      "100%|██████████| 100000/100000 [00:09<00:00, 10700.87it/s]\n",
      "100%|██████████| 100000/100000 [00:09<00:00, 10789.85it/s]\n",
      "100%|██████████| 100000/100000 [00:10<00:00, 9747.71it/s]\n",
      "100%|██████████| 100000/100000 [00:10<00:00, 9633.98it/s]\n",
      "100%|██████████| 100000/100000 [00:10<00:00, 9657.73it/s]\n",
      "100%|██████████| 100000/100000 [00:10<00:00, 9627.49it/s]\n",
      "100%|██████████| 100000/100000 [00:10<00:00, 9612.67it/s]\n"
     ]
    },
    {
     "data": {
      "text/plain": [
       "{-0.01: 8805.8,\n",
       " -0.001: 8859.8,\n",
       " 0.0: 8751.0,\n",
       " 0.001: 8674.2,\n",
       " 0.01: 8792.2,\n",
       " 0.1: 4371.8,\n",
       " 0.5: 1466.2,\n",
       " 'baseline': 8769.2,\n",
       " 'ratio': 8753.8}"
      ]
     },
     "execution_count": 53,
     "metadata": {},
     "output_type": "execute_result"
    }
   ],
   "source": [
    "results_opt = grid_search('optimistic')\n",
    "results_opt"
   ]
  },
  {
   "cell_type": "code",
   "execution_count": 54,
   "metadata": {},
   "outputs": [
    {
     "name": "stderr",
     "output_type": "stream",
     "text": [
      "100%|██████████| 100000/100000 [00:10<00:00, 9675.03it/s]\n",
      "100%|██████████| 100000/100000 [00:10<00:00, 9812.81it/s]\n",
      "100%|██████████| 100000/100000 [00:10<00:00, 9593.28it/s]\n",
      "100%|██████████| 100000/100000 [00:10<00:00, 9777.76it/s]\n",
      "100%|██████████| 100000/100000 [00:10<00:00, 9793.57it/s]\n",
      "100%|██████████| 100000/100000 [00:10<00:00, 9815.70it/s]\n",
      "100%|██████████| 100000/100000 [00:10<00:00, 9925.89it/s]\n",
      "100%|██████████| 100000/100000 [00:10<00:00, 9872.93it/s]\n",
      "100%|██████████| 100000/100000 [00:10<00:00, 9889.05it/s]\n",
      "100%|██████████| 100000/100000 [00:10<00:00, 9858.80it/s]\n",
      "100%|██████████| 100000/100000 [00:09<00:00, 10035.06it/s]\n",
      "100%|██████████| 100000/100000 [00:10<00:00, 9913.09it/s]\n",
      "100%|██████████| 100000/100000 [00:09<00:00, 10093.86it/s]\n",
      "100%|██████████| 100000/100000 [00:10<00:00, 9900.81it/s]\n",
      "100%|██████████| 100000/100000 [00:10<00:00, 9926.88it/s]\n",
      "100%|██████████| 100000/100000 [00:10<00:00, 9920.97it/s]\n",
      "100%|██████████| 100000/100000 [00:10<00:00, 9991.90it/s]\n",
      "100%|██████████| 100000/100000 [00:10<00:00, 9920.97it/s]\n",
      "100%|██████████| 100000/100000 [00:10<00:00, 9944.66it/s]\n",
      "100%|██████████| 100000/100000 [00:10<00:00, 9980.43it/s]\n",
      "100%|██████████| 100000/100000 [00:09<00:00, 10022.48it/s]\n",
      "100%|██████████| 100000/100000 [00:09<00:00, 10153.35it/s]\n",
      "100%|██████████| 100000/100000 [00:09<00:00, 10076.04it/s]\n",
      "100%|██████████| 100000/100000 [00:09<00:00, 10231.85it/s]\n",
      "100%|██████████| 100000/100000 [00:09<00:00, 10314.24it/s]\n",
      "100%|██████████| 100000/100000 [00:09<00:00, 10350.03it/s]\n",
      "100%|██████████| 100000/100000 [00:09<00:00, 10177.14it/s]\n",
      "100%|██████████| 100000/100000 [00:09<00:00, 10265.49it/s]\n",
      "100%|██████████| 100000/100000 [00:09<00:00, 10330.24it/s]\n",
      "100%|██████████| 100000/100000 [00:09<00:00, 10268.66it/s]\n",
      "100%|██████████| 100000/100000 [00:09<00:00, 10333.98it/s]\n",
      "100%|██████████| 100000/100000 [00:09<00:00, 10271.83it/s]\n",
      "100%|██████████| 100000/100000 [00:09<00:00, 10307.33it/s]\n",
      "100%|██████████| 100000/100000 [00:09<00:00, 10197.91it/s]\n",
      "100%|██████████| 100000/100000 [00:09<00:00, 10233.42it/s]\n",
      "100%|██████████| 100000/100000 [00:09<00:00, 10881.51it/s]\n",
      "100%|██████████| 100000/100000 [00:09<00:00, 10867.90it/s]\n",
      "100%|██████████| 100000/100000 [00:09<00:00, 10837.84it/s]\n",
      "100%|██████████| 100000/100000 [00:09<00:00, 10905.86it/s]\n",
      "100%|██████████| 100000/100000 [00:09<00:00, 10775.89it/s]\n",
      "100%|██████████| 100000/100000 [00:09<00:00, 10188.55it/s]\n",
      "100%|██████████| 100000/100000 [00:09<00:00, 10181.80it/s]\n",
      "100%|██████████| 100000/100000 [00:09<00:00, 10238.67it/s]\n",
      "100%|██████████| 100000/100000 [00:09<00:00, 10284.51it/s]\n",
      "100%|██████████| 100000/100000 [00:09<00:00, 10306.79it/s]\n"
     ]
    },
    {
     "data": {
      "text/plain": [
       "{-0.01: 9165.6,\n",
       " -0.001: 9201.0,\n",
       " 0.0: 8881.6,\n",
       " 0.001: 7806.4,\n",
       " 0.01: 6556.0,\n",
       " 0.1: 3995.0,\n",
       " 0.5: 1418.8,\n",
       " 'baseline': 7691.8,\n",
       " 'ratio': 8901.4}"
      ]
     },
     "execution_count": 54,
     "metadata": {},
     "output_type": "execute_result"
    }
   ],
   "source": [
    "results_pess = grid_search('pessimistic')\n",
    "results_pess"
   ]
  },
  {
   "cell_type": "code",
   "execution_count": 55,
   "metadata": {},
   "outputs": [
    {
     "name": "stdout",
     "output_type": "stream",
     "text": [
      "Pess Init Env 1: Center Reward\n"
     ]
    },
    {
     "data": {
      "text/plain": [
       "{-0.01: 9165.6,\n",
       " -0.001: 9201.0,\n",
       " 0.0: 8881.6,\n",
       " 0.001: 7806.4,\n",
       " 0.01: 6556.0,\n",
       " 0.1: 3995.0,\n",
       " 0.5: 1418.8,\n",
       " 'baseline': 7691.8,\n",
       " 'ratio': 8901.4}"
      ]
     },
     "execution_count": 55,
     "metadata": {},
     "output_type": "execute_result"
    }
   ],
   "source": [
    "print(\"Pess Init Env 1: Center Reward\")\n",
    "results_pess"
   ]
  },
  {
   "cell_type": "code",
   "execution_count": 56,
   "metadata": {},
   "outputs": [
    {
     "name": "stdout",
     "output_type": "stream",
     "text": [
      "Opt Init Env 1: Center Reward\n"
     ]
    },
    {
     "data": {
      "text/plain": [
       "{-0.01: 8805.8,\n",
       " -0.001: 8859.8,\n",
       " 0.0: 8751.0,\n",
       " 0.001: 8674.2,\n",
       " 0.01: 8792.2,\n",
       " 0.1: 4371.8,\n",
       " 0.5: 1466.2,\n",
       " 'baseline': 8769.2,\n",
       " 'ratio': 8753.8}"
      ]
     },
     "execution_count": 56,
     "metadata": {},
     "output_type": "execute_result"
    }
   ],
   "source": [
    "print(\"Opt Init Env 1: Center Reward\")\n",
    "results_opt"
   ]
  },
  {
   "cell_type": "code",
   "execution_count": 57,
   "metadata": {},
   "outputs": [
    {
     "name": "stdout",
     "output_type": "stream",
     "text": [
      "Rand Init Env 1: Center Reward\n"
     ]
    },
    {
     "data": {
      "text/plain": [
       "{-0.01: 5755.8,\n",
       " -0.001: 6768.8,\n",
       " 0.0: 5867.8,\n",
       " 0.001: 6072.6,\n",
       " 0.01: 6008.6,\n",
       " 0.1: 5026.2,\n",
       " 0.5: 1411.6,\n",
       " 'baseline': 4662.2,\n",
       " 'ratio': 5054.6}"
      ]
     },
     "execution_count": 57,
     "metadata": {},
     "output_type": "execute_result"
    }
   ],
   "source": [
    "print(\"Rand Init Env 1: Center Reward\")\n",
    "results_rand"
   ]
  }
 ],
 "metadata": {
  "interpreter": {
   "hash": "90905c750a726539e634e915b114a8b94d03bbc27907c6387cd368d1e3eba5e0"
  },
  "kernelspec": {
   "display_name": "Python 3.8.12 ('rl_env')",
   "language": "python",
   "name": "python3"
  },
  "language_info": {
   "codemirror_mode": {
    "name": "ipython",
    "version": 3
   },
   "file_extension": ".py",
   "mimetype": "text/x-python",
   "name": "python",
   "nbconvert_exporter": "python",
   "pygments_lexer": "ipython3",
   "version": "3.9.12"
  },
  "orig_nbformat": 4
 },
 "nbformat": 4,
 "nbformat_minor": 2
}
